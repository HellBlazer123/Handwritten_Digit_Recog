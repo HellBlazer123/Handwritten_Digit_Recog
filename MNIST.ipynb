{
  "nbformat": 4,
  "nbformat_minor": 0,
  "metadata": {
    "colab": {
      "name": "MNIST.ipynb",
      "provenance": [],
      "collapsed_sections": [],
      "include_colab_link": true
    },
    "kernelspec": {
      "name": "python3",
      "display_name": "Python 3"
    }
  },
  "cells": [
    {
      "cell_type": "markdown",
      "metadata": {
        "id": "view-in-github",
        "colab_type": "text"
      },
      "source": [
        "<a href=\"https://colab.research.google.com/github/HellBlazer123/Handwritten_Digit_Recog/blob/master/MNIST.ipynb\" target=\"_parent\"><img src=\"https://colab.research.google.com/assets/colab-badge.svg\" alt=\"Open In Colab\"/></a>"
      ]
    },
    {
      "cell_type": "code",
      "metadata": {
        "id": "E_rbfJvvEDO3",
        "colab_type": "code",
        "colab": {}
      },
      "source": [
        "%matplotlib inline\n",
        "import matplotlib.pyplot as plt"
      ],
      "execution_count": 0,
      "outputs": []
    },
    {
      "cell_type": "code",
      "metadata": {
        "id": "sxhBjM5HEvik",
        "colab_type": "code",
        "colab": {}
      },
      "source": [
        "import random\n",
        "import torch\n",
        "import torchvision"
      ],
      "execution_count": 0,
      "outputs": []
    },
    {
      "cell_type": "code",
      "metadata": {
        "id": "uA4MszBpEynv",
        "colab_type": "code",
        "colab": {}
      },
      "source": [
        "import torchvision.datasets as ds"
      ],
      "execution_count": 0,
      "outputs": []
    },
    {
      "cell_type": "code",
      "metadata": {
        "id": "GbOs6k6XE44_",
        "colab_type": "code",
        "outputId": "503f5fb0-7aaa-4aa4-90e0-a034e8a672c4",
        "colab": {
          "base_uri": "https://localhost:8080/",
          "height": 263
        }
      },
      "source": [
        "mnist_trainset = ds.MNIST(root=\"./data\", train=True, download=True, transform=None)"
      ],
      "execution_count": 0,
      "outputs": [
        {
          "output_type": "stream",
          "text": [
            "\r0it [00:00, ?it/s]"
          ],
          "name": "stderr"
        },
        {
          "output_type": "stream",
          "text": [
            "Downloading http://yann.lecun.com/exdb/mnist/train-images-idx3-ubyte.gz to ./data/MNIST/raw/train-images-idx3-ubyte.gz\n"
          ],
          "name": "stdout"
        },
        {
          "output_type": "stream",
          "text": [
            "9920512it [00:01, 9489458.46it/s]                            \n"
          ],
          "name": "stderr"
        },
        {
          "output_type": "stream",
          "text": [
            "Extracting ./data/MNIST/raw/train-images-idx3-ubyte.gz\n"
          ],
          "name": "stdout"
        },
        {
          "output_type": "stream",
          "text": [
            "  0%|          | 0/28881 [00:00<?, ?it/s]"
          ],
          "name": "stderr"
        },
        {
          "output_type": "stream",
          "text": [
            "Downloading http://yann.lecun.com/exdb/mnist/train-labels-idx1-ubyte.gz to ./data/MNIST/raw/train-labels-idx1-ubyte.gz\n"
          ],
          "name": "stdout"
        },
        {
          "output_type": "stream",
          "text": [
            "32768it [00:00, 143086.43it/s]           \n",
            "  0%|          | 0/1648877 [00:00<?, ?it/s]"
          ],
          "name": "stderr"
        },
        {
          "output_type": "stream",
          "text": [
            "Extracting ./data/MNIST/raw/train-labels-idx1-ubyte.gz\n",
            "Downloading http://yann.lecun.com/exdb/mnist/t10k-images-idx3-ubyte.gz to ./data/MNIST/raw/t10k-images-idx3-ubyte.gz\n"
          ],
          "name": "stdout"
        },
        {
          "output_type": "stream",
          "text": [
            "1654784it [00:00, 2323203.21it/s]                           \n",
            "0it [00:00, ?it/s]"
          ],
          "name": "stderr"
        },
        {
          "output_type": "stream",
          "text": [
            "Extracting ./data/MNIST/raw/t10k-images-idx3-ubyte.gz\n",
            "Downloading http://yann.lecun.com/exdb/mnist/t10k-labels-idx1-ubyte.gz to ./data/MNIST/raw/t10k-labels-idx1-ubyte.gz\n"
          ],
          "name": "stdout"
        },
        {
          "output_type": "stream",
          "text": [
            "8192it [00:00, 52170.32it/s]            "
          ],
          "name": "stderr"
        },
        {
          "output_type": "stream",
          "text": [
            "Extracting ./data/MNIST/raw/t10k-labels-idx1-ubyte.gz\n",
            "Processing...\n",
            "Done!\n"
          ],
          "name": "stdout"
        },
        {
          "output_type": "stream",
          "text": [
            "\n"
          ],
          "name": "stderr"
        }
      ]
    },
    {
      "cell_type": "code",
      "metadata": {
        "id": "K-RSp9iBFRmz",
        "colab_type": "code",
        "colab": {}
      },
      "source": [
        "mnist_testset = ds.MNIST(root=\"./data\", train=False, download=True, transform=None)"
      ],
      "execution_count": 0,
      "outputs": []
    },
    {
      "cell_type": "code",
      "metadata": {
        "id": "qBxqOCgcFdm-",
        "colab_type": "code",
        "colab": {}
      },
      "source": [
        "training_data = mnist_trainset.data.view(60000,784)\n",
        "\n",
        "training_labels_raw = mnist_trainset.targets\n",
        "training_labels = torch.zeros(len(training_labels_raw),10)\n",
        "for i in range(len(training_labels_raw)):\n",
        "  temp = [0]*10\n",
        "  temp[training_labels_raw[i].item()] = 1\n",
        "  training_labels[i] = torch.tensor(temp)\n",
        "  \n",
        "test_data = mnist_testset.data.view(10000,784)\n",
        "\n",
        "testing_labels = mnist_testset.targets"
      ],
      "execution_count": 0,
      "outputs": []
    },
    {
      "cell_type": "code",
      "metadata": {
        "id": "wMyHXKKEJyRF",
        "colab_type": "code",
        "outputId": "a8cf88ac-502b-4d97-983a-c9a4c34018d3",
        "colab": {
          "base_uri": "https://localhost:8080/",
          "height": 386
        }
      },
      "source": [
        "# device = torch.device(\"cuda\" if torch.cuda.is_available() else \"cpu\")\n",
        "\n",
        "model = torch.nn.Sequential(\n",
        "    torch.nn.Linear(784,100),\n",
        "    torch.nn.Sigmoid(),\n",
        "    torch.nn.Linear(100,10),\n",
        "    torch.nn.Softmax(dim=1),\n",
        ")\n",
        "\n",
        "loss_fn = torch.nn.MSELoss()\n",
        "lr = 0.15\n",
        "epochs = 20\n",
        "batch_size = 100\n",
        "n_train = training_data.size()[0]\n",
        "n_test = test_data.size()[0]\n",
        "\n",
        "print(\">>> Starting Training...\")\n",
        "\n",
        "for j in range(epochs):\n",
        "  permutation = torch.randperm(n_train)\n",
        "  \n",
        "  for i in range(0, n_train, batch_size):\n",
        "    idxs = permutation[i:i+batch_size]\n",
        "    \n",
        "    data, labels = training_data[idxs], training_labels[idxs]\n",
        "    \n",
        "    y_pred = model(data.float())\n",
        "\n",
        "    loss = loss_fn(y_pred, labels)\n",
        "\n",
        "#     print(loss.item())\n",
        "\n",
        "    model.zero_grad()\n",
        "\n",
        "    loss.backward()\n",
        "\n",
        "    with torch.no_grad():\n",
        "      for param in model.parameters():\n",
        "        param -= lr*param.grad\n",
        "  print(\"Epoch {0}: {1}\".format(j,loss.item()))"
      ],
      "execution_count": 0,
      "outputs": [
        {
          "output_type": "stream",
          "text": [
            ">>> Starting Training...\n",
            "Epoch 0: 0.025821154937148094\n",
            "Epoch 1: 0.01342275831848383\n",
            "Epoch 2: 0.010291533544659615\n",
            "Epoch 3: 0.011626007966697216\n",
            "Epoch 4: 0.012568315491080284\n",
            "Epoch 5: 0.014015669003129005\n",
            "Epoch 6: 0.010154626332223415\n",
            "Epoch 7: 0.01214973907917738\n",
            "Epoch 8: 0.00976171437650919\n",
            "Epoch 9: 0.009684392251074314\n",
            "Epoch 10: 0.012405579909682274\n",
            "Epoch 11: 0.007942578755319118\n",
            "Epoch 12: 0.007990934886038303\n",
            "Epoch 13: 0.009129520505666733\n",
            "Epoch 14: 0.005458053667098284\n",
            "Epoch 15: 0.006251947488635778\n",
            "Epoch 16: 0.0038916626945137978\n",
            "Epoch 17: 0.0033482417929917574\n",
            "Epoch 18: 0.003470167052000761\n",
            "Epoch 19: 0.006825131829828024\n"
          ],
          "name": "stdout"
        }
      ]
    },
    {
      "cell_type": "code",
      "metadata": {
        "id": "dgt6bNCT1YQE",
        "colab_type": "code",
        "outputId": "aa077c5d-f6cf-4e4f-81ea-e255dccf3e6e",
        "colab": {
          "base_uri": "https://localhost:8080/",
          "height": 34
        }
      },
      "source": [
        "y_pred = model(test_data.float())\n",
        "count = 0\n",
        "for i in range(10000):\n",
        "  max_elem, idx = torch.max(y_pred[i], 0)\n",
        "  if(idx == testing_labels[i]):\n",
        "    count += 1\n",
        "count/10000"
      ],
      "execution_count": 0,
      "outputs": [
        {
          "output_type": "execute_result",
          "data": {
            "text/plain": [
              "0.9509"
            ]
          },
          "metadata": {
            "tags": []
          },
          "execution_count": 10
        }
      ]
    },
    {
      "cell_type": "code",
      "metadata": {
        "id": "YKC3SiGROJlw",
        "colab_type": "code",
        "outputId": "98ddb2f3-e7a1-47bf-875e-c8dc0161dd24",
        "colab": {
          "base_uri": "https://localhost:8080/",
          "height": 304
        }
      },
      "source": [
        "m = 9945\n",
        "\n",
        "image = test_data[m].view(28,28)\n",
        "plt.imshow(image)\n",
        "\n",
        "print(testing_labels[m])\n",
        "\n",
        "max_elem, idx = torch.max(y_pred[m], 0)\n",
        "print(idx)"
      ],
      "execution_count": 0,
      "outputs": [
        {
          "output_type": "stream",
          "text": [
            "tensor(9)\n",
            "tensor(9)\n"
          ],
          "name": "stdout"
        },
        {
          "output_type": "display_data",
          "data": {
            "image/png": "[encoded data removed]",
            "text/plain": [
              "<Figure size 432x288 with 1 Axes>"
            ]
          },
          "metadata": {
            "tags": []
          }
        }
      ]
    },
    {
      "cell_type": "code",
      "metadata": {
        "id": "3de2lMBkziE2",
        "colab_type": "code",
        "outputId": "da49572c-407a-4759-a211-8e881f61767d",
        "colab": {
          "base_uri": "https://localhost:8080/",
          "height": 34
        }
      },
      "source": [
        ""
      ],
      "execution_count": 0,
      "outputs": [
        {
          "output_type": "execute_result",
          "data": {
            "text/plain": [
              "tensor(1)"
            ]
          },
          "metadata": {
            "tags": []
          },
          "execution_count": 34
        }
      ]
    },
    {
      "cell_type": "code",
      "metadata": {
        "id": "_H2HUfPiztyd",
        "colab_type": "code",
        "outputId": "8d98c847-6051-42c0-fb2e-9e56b47579b2",
        "colab": {
          "base_uri": "https://localhost:8080/",
          "height": 70
        }
      },
      "source": [
        ""
      ],
      "execution_count": 0,
      "outputs": [
        {
          "output_type": "execute_result",
          "data": {
            "text/plain": [
              "tensor([2.2542e-04, 9.6364e-01, 1.0113e-03, 7.5179e-03, 6.5439e-04, 8.2339e-03,\n",
              "        3.1332e-03, 7.6153e-04, 1.3611e-02, 1.2129e-03],\n",
              "       grad_fn=<SelectBackward>)"
            ]
          },
          "metadata": {
            "tags": []
          },
          "execution_count": 35
        }
      ]
    },
    {
      "cell_type": "code",
      "metadata": {
        "id": "rsT8EddPzw7j",
        "colab_type": "code",
        "outputId": "3f81212d-c827-4f2b-c43d-b78a106143b7",
        "colab": {
          "base_uri": "https://localhost:8080/",
          "height": 34
        }
      },
      "source": [
        ""
      ],
      "execution_count": 0,
      "outputs": [
        {
          "output_type": "stream",
          "text": [
            "tensor(1)\n"
          ],
          "name": "stdout"
        }
      ]
    },
    {
      "cell_type": "code",
      "metadata": {
        "id": "iHrnaJRoz1ND",
        "colab_type": "code",
        "colab": {}
      },
      "source": [
        ""
      ],
      "execution_count": 0,
      "outputs": []
    }
  ]
}